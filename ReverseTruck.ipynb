{
  "nbformat": 4,
  "nbformat_minor": 0,
  "metadata": {
    "colab": {
      "name": "ReverseTruck.ipynb",
      "provenance": [],
      "collapsed_sections": [],
      "authorship_tag": "ABX9TyOqUj8GPYDXYctwse5J+9Fd",
      "include_colab_link": true
    },
    "kernelspec": {
      "name": "python3",
      "display_name": "Python 3"
    },
    "language_info": {
      "name": "python"
    }
  },
  "cells": [
    {
      "cell_type": "markdown",
      "metadata": {
        "id": "view-in-github",
        "colab_type": "text"
      },
      "source": [
        "<a href=\"https://colab.research.google.com/github/aharrisonau/gym-ReverseTruck/blob/main/ReverseTruck.ipynb\" target=\"_parent\"><img src=\"https://colab.research.google.com/assets/colab-badge.svg\" alt=\"Open In Colab\"/></a>"
      ]
    },
    {
      "cell_type": "markdown",
      "metadata": {
        "id": "VzVejHlnd_sM"
      },
      "source": [
        "ReverseTruck uses the ReverseTruck_env to simulate the reversing of a truck and trailer combination into a loading bay\n",
        "\n",
        "The environment and the simulation have been developed by Andrew Harrison as a submission for SIT796 - Reinforcement Learning at Deakin University"
      ]
    },
    {
      "cell_type": "markdown",
      "metadata": {
        "id": "Y4cnu7OKe846"
      },
      "source": [
        "First step is to install the environment for Github"
      ]
    },
    {
      "cell_type": "code",
      "metadata": {
        "id": "1KAfz1h3e75r"
      },
      "source": [
        "# helper code from https://stackoverflow.com/questions/55835318/how-to-create-and-use-a-custom-openai-gym-environment-on-google-colab\n",
        "%%capture\n",
        "!rm -r ReverseTruck_env\n",
        "!git clone https://github.com/aharrisonau/gym-ReverseTruck.git\n",
        "!pip install -e gym-ReverseTruck\n",
        "\n",
        "\n"
      ],
      "execution_count": 1,
      "outputs": []
    },
    {
      "cell_type": "code",
      "metadata": {
        "id": "Lz4Uh0VSIgoV"
      },
      "source": [
        "import gym_ReverseTruck"
      ],
      "execution_count": 2,
      "outputs": []
    },
    {
      "cell_type": "code",
      "metadata": {
        "id": "6bM2MG1UelJ0"
      },
      "source": [
        "# preliminaries\n",
        "import pandas as pd\n",
        "import numpy as np\n",
        "import math as math\n",
        "import gym\n",
        "from gym import error, spaces, utils\n",
        "from gym.utils import seeding"
      ],
      "execution_count": 3,
      "outputs": []
    },
    {
      "cell_type": "markdown",
      "metadata": {
        "id": "ItJ4eMfefI6R"
      },
      "source": [
        "Then we can create the environment\n",
        "\n",
        "Note that the environment requires a truck starting position, a truck setup file and a dictionary of obstacles passed to it"
      ]
    },
    {
      "cell_type": "code",
      "metadata": {
        "id": "VO_96lW8fcja"
      },
      "source": [
        "\n",
        "# the initial truck model has a prime mover length of 5m and a trailer of 10m\n",
        "# width of both is set as 2.5m, but not used yet\n",
        "TruckDefinition = np.array( [5.0, 2.5, 10.0, 2.5])\n",
        "\n",
        "# The truck starts with the back of the truck 20m out and 20m forward of the \n",
        "# end point (0,0) and perpendicular to the finish position\n",
        "# Note that the position is consistent with the truck definition\n",
        "StartPosition = np.array( [[20.0,35.0],\n",
        "                         [20.0,30],\n",
        "                         [20.0,20.0]])\n",
        "\n",
        "# No obstacles are used yet\n",
        "Obstacles = {}\n"
      ],
      "execution_count": 4,
      "outputs": []
    },
    {
      "cell_type": "code",
      "metadata": {
        "colab": {
          "base_uri": "https://localhost:8080/",
          "height": 0
        },
        "id": "asY3fHLVllT1",
        "outputId": "381ecd76-a330-4018-9f41-ef089ba81078"
      },
      "source": [
        "env = gym.make('ReverseTruck-v0',TruckDefinition=TruckDefinition, StartPosition=StartPosition, Obstacles=Obstacles)"
      ],
      "execution_count": 5,
      "outputs": [
        {
          "output_type": "stream",
          "text": [
            "/usr/local/lib/python3.7/dist-packages/gym/logger.py:30: UserWarning: \u001b[33mWARN: Box bound precision lowered by casting to float32\u001b[0m\n",
            "  warnings.warn(colorize('%s: %s'%('WARN', msg % args), 'yellow'))\n"
          ],
          "name": "stderr"
        }
      ]
    },
    {
      "cell_type": "markdown",
      "metadata": {
        "id": "d61IsZAcK-Wf"
      },
      "source": [
        "Follow the method of Practical 1 to run the model"
      ]
    },
    {
      "cell_type": "markdown",
      "metadata": {
        "id": "fZBhE9dCLEaO"
      },
      "source": [
        "We need to define a policy to take actions.\n",
        "\n",
        "The simplest policy is to make the back of the truck follow a 20m radius curve till it gets to the loading dock (x=0)\n",
        "\n",
        "The geometry of this means that the trailer angle should be held at 0.253 rad to the direction of the prime mover.\n",
        "\n",
        "The policy is then if the trailer angle is less than this, apply \"alpha\" right steering to increase the angle\n",
        "If angle greater than this, apply \"alpha\" left steering to decrease the angle.\n",
        "\n",
        "\"alpha\" is an adjustable parameter.  1 means full 45 deg steerign lock.  Lower it to prevent overcorrection if needed"
      ]
    },
    {
      "cell_type": "code",
      "metadata": {
        "id": "hh2jU1tmO7lt"
      },
      "source": [
        "def policy(obs, t):\n",
        "    # Write the code for your policy here. You can use the observation\n",
        "    # (a tuple of position and velocity), the current time step, or both,\n",
        "    # if you want.\n",
        "    pmX, pmY, pivX, pivY, trlX, trlY = obs\n",
        "    alpha=0.2\n",
        "\n",
        "    pmVect=np.array([pmX-pivX,pmY-pivY]) # prime mover vector\n",
        "    trlVect=np.array([pivX-trlX,pivY-trlY]) # trailer vector\n",
        "    pm_trlSin = np.cross(trlVect,pmVect,)/np.linalg.norm(pmVect)/np.linalg.norm(trlVect) #sine of the trailer angle relative to the PM\n",
        "    pm_trlAngle=math.asin(np.clip(pm_trlSin,-1,1)) #relative trailer angle.  Clip eliminate rounding errors giving arguments >1    \n",
        "\n",
        "    if pm_trlAngle<0.253:\n",
        "      actions=[-1.0,-alpha]\n",
        "    else:\n",
        "      actions=[-1.0,alpha]\n",
        "    \n",
        "   \n",
        "    return actions"
      ],
      "execution_count": 27,
      "outputs": []
    },
    {
      "cell_type": "code",
      "metadata": {
        "colab": {
          "base_uri": "https://localhost:8080/"
        },
        "id": "AfyClfcrKVz3",
        "outputId": "daefa39a-2c24-4096-da38-c06cca478224"
      },
      "source": [
        "o = env.reset()\n",
        "\n",
        "for t in range(350):\n",
        "    \n",
        "    action = policy(o,t)  # Call your policy\n",
        "    o, r, d, _ = env.step(action)  # Pass the action chosen by the policy to the environment\n",
        "    if t%20==0:\n",
        "      print(t,o,action)\n",
        "\n",
        "    if d and t<TIME_LIMIT-1:\n",
        "        print(\"Task completed in\", t, \"time steps\")\n",
        "        break\n",
        "else:\n",
        "    print(\"Time limit exceeded. Try again.\")\n",
        "\n",
        "env.reset()"
      ],
      "execution_count": 29,
      "outputs": [
        {
          "output_type": "stream",
          "text": [
            "0 [19.98416156 34.89997491 20.         29.9        20.         19.9       ] [-1.0, -0.2]\n",
            "20 [19.73413559 32.8903809  20.06649822 27.90143962 19.99559856 17.90169096] [-1.0, -0.2]\n",
            "40 [19.61184165 30.86898897 20.2593949  25.91109882 19.96308115 15.91548988] [-1.0, -0.2]\n",
            "60 [19.6488769  28.84989411 20.57791608 23.9369636  19.87035931 13.96202684] [-1.0, 0.2]\n",
            "80 [20.21875439 26.91661534 20.8977046  21.96292716 19.68717686 12.03646643] [-1.0, 0.2]\n",
            "100 [20.69058852 24.95700445 21.11770606 19.97528079 19.4069972  10.12269356] [-1.0, 0.2]\n",
            "120 [21.06317238 22.97604625 21.23736031 17.97908131 19.03042127  8.22565011] [-1.0, 0.2]\n",
            "140 [21.33491967 20.97875619 21.25573062 15.97938332 18.55836362  6.35004216] [-1.0, 0.2]\n",
            "160 [21.50513247 18.97026379 21.17276984 13.98132251 17.99205784  4.50065422] [-1.0, 0.2]\n",
            "180 [21.57337364 16.9557273  20.988691   11.99003035 17.33298212  2.68219534] [-1.0, 0.2]\n",
            "200 [21.53946792 14.94032051 20.70396688 10.01062092 16.58285539  0.89928512] [-1.0, 0.2]\n",
            "220 [21.40412172 12.92908599 20.31994802  8.04804436 15.74369663 -0.8434079 ] [-1.0, 0.2]\n",
            "240 [21.16767308 10.92714185 19.83761114  6.1072938  14.817557   -2.54135098] [-1.0, 0.2]\n",
            "260 [20.83010676  8.93974725 19.25757247  4.19347125 13.80672214 -4.1903364 ] [-1.0, 0.2]\n",
            "280 [20.3922897   6.97200628 18.58132169  2.31149184 12.71380097 -5.78617452] [-1.0, 0.2]\n",
            "300 [19.85534631  5.02897255 17.81059556  0.46618893 11.54161318 -7.32482255] [-1.0, 0.2]\n",
            "320 [19.22122258  3.11535353 16.94794047 -1.337981   10.2932774  -8.80225989] [-1.0, 0.2]\n",
            "340 [ 18.49152614   1.23602048  15.99555098  -3.09642779   8.97191265\n",
            " -10.21460906] [-1.0, 0.2]\n",
            "Time limit exceeded. Try again.\n"
          ],
          "name": "stdout"
        },
        {
          "output_type": "execute_result",
          "data": {
            "text/plain": [
              "array([20., 35., 20., 30., 20., 20.])"
            ]
          },
          "metadata": {
            "tags": []
          },
          "execution_count": 29
        }
      ]
    }
  ]
}